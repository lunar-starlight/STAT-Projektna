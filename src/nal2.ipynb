{
 "cells": [
  {
   "cell_type": "code",
   "execution_count": 9,
   "metadata": {
    "vscode": {
     "languageId": "python"
    }
   },
   "outputs": [],
   "source": [
    "import numpy as np\n",
    "import matplotlib.pyplot as plt\n",
    "import csv\n",
    "import random\n",
    "import math"
   ]
  },
  {
   "cell_type": "code",
   "execution_count": 39,
   "metadata": {
    "vscode": {
     "languageId": "python"
    }
   },
   "outputs": [
    {
     "name": "stdout",
     "output_type": "stream",
     "text": [
      "[157, 69, 35, 17, 1, 1]\n"
     ]
    }
   ],
   "source": [
    "with open('../data/Palice.csv', 'r') as f:\n",
    "    f.readline()\n",
    "    reader = csv.reader(f)\n",
    "    palice = list(int(line[1]) for line in reader)\n",
    "\n",
    "# print(palice)\n",
    "\n",
    "print(palice)"
   ]
  },
  {
   "cell_type": "code",
   "execution_count": 40,
   "metadata": {
    "vscode": {
     "languageId": "python"
    }
   },
   "outputs": [
    {
     "name": "stdout",
     "output_type": "stream",
     "text": [
      "199/1400\n"
     ]
    }
   ],
   "source": [
    "var('k')\n",
    "f(k, n, p) = (factorial(n)/factorial(k)/factorial(n-k)) * p^k * (1-p)^(n-k)\n",
    "l(p) = sum([log(f(k, 5, p))*(palice[k]) for k in range(6)])\n",
    "# print(l)\n",
    "p_0 = solve(derivative(l) == 0, p)[0].right()\n",
    "print(p_0)"
   ]
  },
  {
   "cell_type": "code",
   "execution_count": 41,
   "metadata": {
    "vscode": {
     "languageId": "python"
    }
   },
   "outputs": [],
   "source": [
    "palice2 = [157, 69, 35, 19]"
   ]
  },
  {
   "cell_type": "code",
   "execution_count": 56,
   "metadata": {
    "vscode": {
     "languageId": "python"
    }
   },
   "outputs": [
    {
     "name": "stdout",
     "output_type": "stream",
     "text": [
      "44.1486610184320\n",
      "2.58964401605015e-10\n"
     ]
    }
   ],
   "source": [
    "f_tail = f(3, 5, p_0) + f(4, 5, p_0) + f(5, 5, p_0)\n",
    "chi2 = sum([(palice2[k] - 280*f(k, 5, p_0))^2/f(k, 5, p_0) for k in range(3)]) + (19 - 280*f_tail)^2/f_tail\n",
    "chi2 /= 280\n",
    "print(N(chi2))\n",
    "print(N(exp(-chi2/2)))"
   ]
  },
  {
   "cell_type": "code",
   "execution_count": 26,
   "metadata": {
    "vscode": {
     "languageId": "python"
    }
   },
   "outputs": [
    {
     "name": "stdout",
     "output_type": "stream",
     "text": [
      "-5*(p - 1)^4\n",
      "[[p == 1], [p == (1/5), p == 1], [p == (2/5), p == 0, p == 1], [p == (3/5), p == 0, p == 1], [p == (4/5), p == 0], [p == 0]]\n"
     ]
    }
   ],
   "source": [
    "var('k')\n",
    "var('p')\n",
    "f(k, n, p) = (factorial(n)/factorial(k)/factorial(n-k)) * p^k * (1-p)^(n-k)\n",
    "ps = [derivative(f(k, 5, p), p) for k in range(6)]\n",
    "# print(ps[0])\n",
    "S = [solve(el == 0, p) for el in ps]\n",
    "print(S)\n",
    "# sum([log(f(k, 5, p))*(palice[k]) for k in range(6)])\n",
    "PH_1 = prod([f(k, 5, S[k][0].right()) for k in range(1, 5)])"
   ]
  },
  {
   "cell_type": "code",
   "execution_count": 25,
   "metadata": {
    "vscode": {
     "languageId": "python"
    }
   },
   "outputs": [
    {
     "data": {
      "text/plain": [
       "[p^k == k*(p - 1)*p^(k - 1)/(k - n)]"
      ]
     },
     "execution_count": 25,
     "metadata": {},
     "output_type": "execute_result"
    }
   ],
   "source": [
    "var('k')\n",
    "var('p')\n",
    "var('n')\n",
    "f(k, n, p) = (factorial(n)/factorial(k)/factorial(n-k)) * p^k * (1-p)^(n-k)\n",
    "S(k, n, p) = derivative(f(k, n, p), p)\n",
    "solve(S(k, n, p) == 0, p)"
   ]
  },
  {
   "cell_type": "code",
   "execution_count": null,
   "metadata": {
    "vscode": {
     "languageId": "python"
    }
   },
   "outputs": [],
   "source": []
  },
  {
   "cell_type": "code",
   "execution_count": null,
   "metadata": {
    "vscode": {
     "languageId": "python"
    }
   },
   "outputs": [],
   "source": [
    "var('k')\n",
    "f(k, n, p) = (factorial(n)/factorial(k)/factorial(n-k)) * p^k * (1-p)^(n-k)\n",
    "l(p) = sum([log(f(k, 5, p))*(palice[k]) for k in range(6)])\n",
    "# print(l)\n",
    "p_0 = solve(derivative(l) == 0, p)[0].right()\n",
    "print(p_0)"
   ]
  }
 ],
 "metadata": {
  "kernelspec": {
   "display_name": "SageMath 9.6",
   "language": "sage",
   "name": "sagemath"
  },
  "language_info": {
   "codemirror_mode": {
    "name": "ipython",
    "version": 3
   },
   "file_extension": ".py",
   "mimetype": "text/x-python",
   "name": "sage",
   "nbconvert_exporter": "python",
   "pygments_lexer": "ipython3",
   "version": "3.10.5"
  },
  "orig_nbformat": 4,
  "vscode": {
   "interpreter": {
    "hash": "e7370f93d1d0cde622a1f8e1c04877d8463912d04d973331ad4851f04de6915a"
   }
  }
 },
 "nbformat": 4,
 "nbformat_minor": 2
}
