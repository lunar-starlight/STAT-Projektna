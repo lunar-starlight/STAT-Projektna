{
 "cells": [
  {
   "cell_type": "code",
   "execution_count": 2,
   "metadata": {},
   "outputs": [],
   "source": [
    "import numpy as np\n",
    "import matplotlib.pyplot as plt\n",
    "import csv\n",
    "import random"
   ]
  },
  {
   "cell_type": "code",
   "execution_count": 3,
   "metadata": {},
   "outputs": [],
   "source": [
    "with open('../data/Pulz.csv', 'r') as f:\n",
    "    f.readline()\n",
    "    reader = csv.reader(f)\n",
    "    pulz = list(tuple(map(float, line)) for line in reader)\n",
    "\n",
    "pulz_by_load = tuple(list(filter(lambda x: x[7] == i+1, pulz)) for i in range(2))"
   ]
  },
  {
   "cell_type": "code",
   "execution_count": 14,
   "metadata": {},
   "outputs": [
    {
     "data": {
      "image/png": "[encoded data removed]",
      "text/plain": [
       "<Figure size 432x288 with 1 Axes>"
      ]
     },
     "metadata": {
      "needs_background": "light"
     },
     "output_type": "display_data"
    }
   ],
   "source": [
    "data = tuple(list(map(lambda x: x[9] - x[8], pulzi)) for pulzi in pulz_by_load)\n",
    "plt.boxplot(data)\n",
    "plt.show()"
   ]
  },
  {
   "cell_type": "markdown",
   "metadata": {},
   "source": [
    "a) Očitno vidimo, da je prvi stolpec (razlika v pulzu študentov z obremenitvijo) bistveno višje od drugega (razlika v pulzu študentov brez obremenitve)."
   ]
  },
  {
   "cell_type": "code",
   "execution_count": 13,
   "metadata": {},
   "outputs": [
    {
     "data": {
      "image/png": "[encoded data removed]",
      "text/plain": [
       "<Figure size 432x288 with 1 Axes>"
      ]
     },
     "metadata": {
      "needs_background": "light"
     },
     "output_type": "display_data"
    },
    {
     "name": "stdout",
     "output_type": "stream",
     "text": [
      "51.391304347826086\n"
     ]
    }
   ],
   "source": [
    "data = list(map(lambda x: x[9] - x[8], pulz_by_load[0]))\n",
    "# print(data)\n",
    "# fig = plt.figure()\n",
    "# ax = fig.add_subplot(111)\n",
    "# ax.hist(data, edgecolor='black')\n",
    "plt.hist(data, edgecolor='black', bins=15)\n",
    "plt.show()\n",
    "print(np.mean(data))"
   ]
  },
  {
   "cell_type": "code",
   "execution_count": 1,
   "metadata": {},
   "outputs": [
    {
     "ename": "ModuleNotFoundError",
     "evalue": "No module named 'diptest'",
     "output_type": "error",
     "traceback": [
      "\u001b[1;31m---------------------------------------------------------------------------\u001b[0m",
      "\u001b[1;31mModuleNotFoundError\u001b[0m                       Traceback (most recent call last)",
      "\u001b[1;32m/home/muf/Workspace/STAT-Projektna/src/nal3.ipynb Cell 6\u001b[0m in \u001b[0;36m<cell line: 1>\u001b[1;34m()\u001b[0m\n\u001b[1;32m----> <a href='vscode-notebook-cell:/home/muf/Workspace/STAT-Projektna/src/nal3.ipynb#W5sZmlsZQ%3D%3D?line=0'>1</a>\u001b[0m \u001b[39mimport\u001b[39;00m \u001b[39mdiptest\u001b[39;00m\n\u001b[0;32m      <a href='vscode-notebook-cell:/home/muf/Workspace/STAT-Projektna/src/nal3.ipynb#W5sZmlsZQ%3D%3D?line=1'>2</a>\u001b[0m diptest\u001b[39m.\u001b[39mdiptest(data)\n",
      "\u001b[1;31mModuleNotFoundError\u001b[0m: No module named 'diptest'"
     ]
    }
   ],
   "source": [
    "import diptest\n",
    "diptest.diptest(data)"
   ]
  },
  {
   "cell_type": "markdown",
   "metadata": {},
   "source": [
    "b) "
   ]
  },
  {
   "cell_type": "code",
   "execution_count": 19,
   "metadata": {},
   "outputs": [],
   "source": [
    "pulz_with_load_by_training = tuple(list(filter(lambda x: x[6] == i+1, pulz_by_load[0])) for i in range(3))"
   ]
  },
  {
   "cell_type": "code",
   "execution_count": 20,
   "metadata": {},
   "outputs": [
    {
     "data": {
      "image/png": "[encoded data removed]",
      "text/plain": [
       "<Figure size 432x288 with 1 Axes>"
      ]
     },
     "metadata": {
      "needs_background": "light"
     },
     "output_type": "display_data"
    }
   ],
   "source": [
    "data = tuple(list(map(lambda x: x[9] - x[8], pulzi)) for pulzi in pulz_with_load_by_training)\n",
    "plt.boxplot(data)\n",
    "plt.show()"
   ]
  },
  {
   "cell_type": "markdown",
   "metadata": {},
   "source": [
    "c) Niti ne"
   ]
  }
 ],
 "metadata": {
  "kernelspec": {
   "display_name": "SageMath 9.6",
   "language": "sage",
   "name": "sagemath"
  },
  "language_info": {
   "codemirror_mode": {
    "name": "ipython",
    "version": 3
   },
   "file_extension": ".py",
   "mimetype": "text/x-python",
   "name": "python",
   "nbconvert_exporter": "python",
   "pygments_lexer": "ipython3",
   "version": "3.10.6"
  },
  "orig_nbformat": 4,
  "vscode": {
   "interpreter": {
    "hash": "e7370f93d1d0cde622a1f8e1c04877d8463912d04d973331ad4851f04de6915a"
   }
  }
 },
 "nbformat": 4,
 "nbformat_minor": 2
}
